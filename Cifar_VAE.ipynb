{
 "cells": [
  {
   "cell_type": "code",
   "execution_count": 1,
   "metadata": {
    "collapsed": true
   },
   "outputs": [],
   "source": [
    "import torch\n",
    "import numpy as np\n",
    "import matplotlib.pyplot as plt\n",
    "from torchvision import transforms as transforms\n",
    "from torchvision.datasets import CIFAR10\n",
    "import sys\n",
    "import os\n"
   ]
  },
  {
   "cell_type": "code",
   "execution_count": 2,
   "outputs": [],
   "source": [
    "#adjustable hparams\n",
    "batch_size = 64\n",
    "lr = 1e-3\n",
    "max_epochs = 25\n",
    "latent_dim = 128\n",
    "#change this to 'cuda'\n",
    "device = 'cpu'"
   ],
   "metadata": {
    "collapsed": false
   }
  },
  {
   "cell_type": "code",
   "execution_count": 3,
   "outputs": [
    {
     "name": "stdout",
     "output_type": "stream",
     "text": [
      "Files already downloaded and verified\n",
      "Files already downloaded and verified\n",
      "25\n"
     ]
    }
   ],
   "source": [
    "#dont touch\n",
    "transform = transforms.ToTensor()\n",
    "torch.set_printoptions(precision=None, threshold=None, edgeitems=None, linewidth=None, profile=None, sci_mode=False)\n",
    "np.set_printoptions(precision=None, threshold=None, edgeitems=None, linewidth=None, suppress=True, nanstr=None, infstr=None, formatter=None, sign=None, floatmode=None, legacy=None)\n",
    "dataset_path = '/Users/gpnuser/Documents/Horos Data/Jas_Pycharm/VAE'\n",
    "train_data = CIFAR10(root=dataset_path, transform=transform, train=True, download=True)\n",
    "validation_data = CIFAR10(root=dataset_path, train=False, transform=transform, download=True)\n",
    "train_loader = torch.utils.data.DataLoader(train_data, batch_size=batch_size)\n",
    "validation_loader = torch.utils.data.DataLoader(validation_data, batch_size=batch_size)\n",
    "train_dict = enumerate(train_loader, 0)\n",
    "loss_log = np.zeros(max_epochs,)\n",
    "print(len(loss_log))"
   ],
   "metadata": {
    "collapsed": false
   }
  },
  {
   "cell_type": "code",
   "execution_count": 4,
   "outputs": [],
   "source": [
    "class Vae(torch.nn.Module):\n",
    "        def __init__(self, img_dim=(65536), channels=3, latent_dim=latent_dim):\n",
    "            super(\n",
    ").__init__()\n",
    "\n",
    "            #Encoder\n",
    "            self.encoder_conv_1 = torch.nn.Conv2d(3,32,3,stride=1,padding=1)\n",
    "            self.encoder_conv_2 = torch.nn.Conv2d(32,64,3,stride=1,padding=1)\n",
    "            self.encoder_FC_1 = torch.nn.Linear(img_dim, latent_dim)\n",
    "            self.encoder_FC_2 = torch.nn.Linear(img_dim, latent_dim)\n",
    "            #Decoder\n",
    "            self.decoder_FC_1 = torch.nn.Linear(128,65536)\n",
    "            self.decoder_conv_1 = torch.nn.ConvTranspose2d(64,32,3,stride=1,padding=1)\n",
    "            self.decoder_conv_2 = torch.nn.ConvTranspose2d(32,3,3,stride=1,padding=1)\n",
    "\n",
    "        def encoder(self, x, img_dim=(32,32), channels=3, latent_dim=latent_dim):\n",
    "            h = self.encoder_conv_1(x)\n",
    "            h = self.encoder_conv_2(h)\n",
    "            h = h.view(h.size(0), -1)\n",
    "            mu = torch.Tensor(h)\n",
    "            sigma = torch.Tensor(h)\n",
    "            mu = self.encoder_FC_1(mu)\n",
    "            sigma = self.encoder_FC_2(sigma)\n",
    "\n",
    "            return mu, sigma\n",
    "\n",
    "# meant to mirror the encoder architecture\n",
    "        def decoder(self, k, img_dim=(32,32), channels=3, latent_dim=latent_dim):\n",
    "            k = relu(k)\n",
    "            k = torch.Tensor(self.decoder_FC_1(k))\n",
    "            k = k.view(64, 64, 32, 32)\n",
    "            k = relu(self.decoder_conv_1(k))\n",
    "            k = torch.sigmoid(self.decoder_conv_2(k))\n",
    "            return k\n",
    "\n",
    "\n",
    "        def reparameterization(self, mu, sigma):\n",
    "            eps = torch.randn_like(sigma)\n",
    "            sigma = torch.exp(sigma/2)\n",
    "            reparameterized = mu + sigma * eps\n",
    "            return reparameterized\n",
    "\n",
    "\n",
    "        def forward(self, x):\n",
    "            mu, sigma = self.encoder(x)\n",
    "            reparameterized = self.reparameterization(mu, sigma)\n",
    "            z = self.decoder(reparameterized)\n",
    "            return z, mu, sigma\n",
    "#dont touch\n",
    "relu = torch.nn.ReLU()\n",
    "net = Vae().to(device)\n",
    "optimizer = torch.optim.Adam(net.parameters(), lr=lr)\n",
    "epoch = 0\n",
    "def end():\n",
    "    print('done')\n",
    "    sys.exit()\n"
   ],
   "metadata": {
    "collapsed": false
   }
  },
  {
   "cell_type": "code",
   "execution_count": 5,
   "outputs": [],
   "source": [
    "#this code sucks and might be causing loss problems\n",
    "def training_loop():\n",
    "        for data in train_loader:\n",
    "            global epoch\n",
    "            global loss_log\n",
    "            epoch += 1\n",
    "            in_image, nothing = data\n",
    "            in_image = in_image.to(device)\n",
    "            out_image, mu, sigma = net(in_image)\n",
    "\n",
    "\n",
    "            KL = -0.5 * torch.sum(1 + sigma - mu.pow(2) - sigma.exp(),dim=1)\n",
    "            loss = torch.nn.functional.binary_cross_entropy(out_image, in_image) + KL\n",
    "            loss = torch.mean(loss)\n",
    "         #   loss_log[epoch-1] = loss\n",
    "            print('Epoch is:', epoch)\n",
    "            print('loss: is', loss)\n",
    "            optimizer.zero_grad()\n",
    "            loss.backward()\n",
    "            optimizer.step()\n",
    "            if epoch == max_epochs:\n",
    "                print('max epoch reached, learning has ended')\n",
    "                in_image = in_image[0].to('cpu').permute(1,2,0).detach().numpy()\n",
    "                out_image = out_image[1].to('cpu').permute(1,2,0).detach().numpy()\n",
    "                plt.subplot(121)\n",
    "                plt.imshow(in_image)\n",
    "                plt.subplot(122)\n",
    "                plt.imshow(out_image)\n",
    "                end()\n"
   ],
   "metadata": {
    "collapsed": false
   }
  },
  {
   "cell_type": "code",
   "execution_count": 6,
   "outputs": [],
   "source": [
    "#vroom\n",
    "\n",
    "#training_loop()"
   ],
   "metadata": {
    "collapsed": false
   }
  },
  {
   "cell_type": "code",
   "execution_count": 7,
   "outputs": [
    {
     "data": {
      "text/plain": "<Figure size 640x480 with 1 Axes>",
      "image/png": "[encoded data removed]"
     },
     "metadata": {},
     "output_type": "display_data"
    }
   ],
   "source": [
    "def plot_loss():\n",
    "    epoch_axis = range(max_epochs)\n",
    "    plt.plot(epoch_axis, loss_log, color='red', marker='x')\n",
    "    plt.title('graph of loss over epochs', fontsize=14)\n",
    "    plt.xlabel('epochs', fontsize=14)\n",
    "    plt.ylabel('loss', fontsize=14)\n",
    "    plt.grid(True)\n",
    "    plt.show()\n",
    "plot_loss()"
   ],
   "metadata": {
    "collapsed": false
   }
  },
  {
   "cell_type": "code",
   "execution_count": 8,
   "outputs": [
    {
     "name": "stdout",
     "output_type": "stream",
     "text": [
      "Epoch is: 1\n",
      "loss: is tensor(1.6641, grad_fn=<MeanBackward0>)\n",
      "in-tensor summary: mean is tensor(0.4543)\n",
      "out-tensor summary: mean is tensor(0.5076, grad_fn=<MeanBackward0>)\n",
      "Epoch is: 2\n",
      "loss: is tensor(12848.2549, grad_fn=<MeanBackward0>)\n",
      "in-tensor summary: mean is tensor(0.4761)\n",
      "out-tensor summary: mean is tensor(0.4177, grad_fn=<MeanBackward0>)\n",
      "Epoch is: 3\n",
      "loss: is tensor(43.8545, grad_fn=<MeanBackward0>)\n",
      "in-tensor summary: mean is tensor(0.4641)\n",
      "out-tensor summary: mean is tensor(0.4861, grad_fn=<MeanBackward0>)\n",
      "Epoch is: 4\n",
      "loss: is tensor(362.7072, grad_fn=<MeanBackward0>)\n",
      "in-tensor summary: mean is tensor(0.4763)\n",
      "out-tensor summary: mean is tensor(0.4748, grad_fn=<MeanBackward0>)\n",
      "Epoch is: 5\n",
      "loss: is tensor(111.7514, grad_fn=<MeanBackward0>)\n",
      "in-tensor summary: mean is tensor(0.4870)\n",
      "out-tensor summary: mean is tensor(0.5024, grad_fn=<MeanBackward0>)\n",
      "Epoch is: 6\n",
      "loss: is tensor(754.1113, grad_fn=<MeanBackward0>)\n",
      "in-tensor summary: mean is tensor(0.4696)\n",
      "out-tensor summary: mean is tensor(0.5405, grad_fn=<MeanBackward0>)\n",
      "Epoch is: 7\n",
      "loss: is tensor(691.3983, grad_fn=<MeanBackward0>)\n",
      "in-tensor summary: mean is tensor(0.4688)\n",
      "out-tensor summary: mean is tensor(0.5434, grad_fn=<MeanBackward0>)\n",
      "Epoch is: 8\n",
      "loss: is tensor(483.9423, grad_fn=<MeanBackward0>)\n",
      "in-tensor summary: mean is tensor(0.4674)\n",
      "out-tensor summary: mean is tensor(0.5279, grad_fn=<MeanBackward0>)\n",
      "Epoch is: 9\n",
      "loss: is tensor(1154.2593, grad_fn=<MeanBackward0>)\n",
      "in-tensor summary: mean is tensor(0.4829)\n",
      "out-tensor summary: mean is tensor(0.5328, grad_fn=<MeanBackward0>)\n",
      "Epoch is: 10\n",
      "loss: is tensor(920.4656, grad_fn=<MeanBackward0>)\n",
      "in-tensor summary: mean is tensor(0.4597)\n",
      "out-tensor summary: mean is tensor(0.5085, grad_fn=<MeanBackward0>)\n",
      "Epoch is: 11\n",
      "loss: is tensor(339.2759, grad_fn=<MeanBackward0>)\n",
      "in-tensor summary: mean is tensor(0.4691)\n",
      "out-tensor summary: mean is tensor(0.4942, grad_fn=<MeanBackward0>)\n",
      "Epoch is: 12\n",
      "loss: is tensor(390.0863, grad_fn=<MeanBackward0>)\n",
      "in-tensor summary: mean is tensor(0.5031)\n",
      "out-tensor summary: mean is tensor(0.4804, grad_fn=<MeanBackward0>)\n",
      "Epoch is: 13\n",
      "loss: is tensor(792.8394, grad_fn=<MeanBackward0>)\n",
      "in-tensor summary: mean is tensor(0.4718)\n",
      "out-tensor summary: mean is tensor(0.4583, grad_fn=<MeanBackward0>)\n",
      "Epoch is: 14\n",
      "loss: is tensor(578.3402, grad_fn=<MeanBackward0>)\n",
      "in-tensor summary: mean is tensor(0.4766)\n",
      "out-tensor summary: mean is tensor(0.4747, grad_fn=<MeanBackward0>)\n",
      "Epoch is: 15\n",
      "loss: is tensor(440.8907, grad_fn=<MeanBackward0>)\n",
      "in-tensor summary: mean is tensor(0.4557)\n",
      "out-tensor summary: mean is tensor(0.4894, grad_fn=<MeanBackward0>)\n",
      "Epoch is: 16\n",
      "loss: is tensor(805.5041, grad_fn=<MeanBackward0>)\n",
      "in-tensor summary: mean is tensor(0.4853)\n",
      "out-tensor summary: mean is tensor(0.4725, grad_fn=<MeanBackward0>)\n",
      "Epoch is: 17\n",
      "loss: is tensor(668.1108, grad_fn=<MeanBackward0>)\n",
      "in-tensor summary: mean is tensor(0.4844)\n",
      "out-tensor summary: mean is tensor(0.4831, grad_fn=<MeanBackward0>)\n",
      "Epoch is: 18\n",
      "loss: is tensor(465.0804, grad_fn=<MeanBackward0>)\n",
      "in-tensor summary: mean is tensor(0.4751)\n",
      "out-tensor summary: mean is tensor(0.4936, grad_fn=<MeanBackward0>)\n",
      "Epoch is: 19\n",
      "loss: is tensor(670.7416, grad_fn=<MeanBackward0>)\n",
      "in-tensor summary: mean is tensor(0.4810)\n",
      "out-tensor summary: mean is tensor(0.4939, grad_fn=<MeanBackward0>)\n",
      "Epoch is: 20\n",
      "loss: is tensor(646.9753, grad_fn=<MeanBackward0>)\n",
      "in-tensor summary: mean is tensor(0.4817)\n",
      "out-tensor summary: mean is tensor(0.4986, grad_fn=<MeanBackward0>)\n",
      "Epoch is: 21\n",
      "loss: is tensor(435.7763, grad_fn=<MeanBackward0>)\n",
      "in-tensor summary: mean is tensor(0.4764)\n",
      "out-tensor summary: mean is tensor(0.4978, grad_fn=<MeanBackward0>)\n",
      "Epoch is: 22\n",
      "loss: is tensor(498.0514, grad_fn=<MeanBackward0>)\n",
      "in-tensor summary: mean is tensor(0.4695)\n",
      "out-tensor summary: mean is tensor(0.5027, grad_fn=<MeanBackward0>)\n",
      "Epoch is: 23\n",
      "loss: is tensor(534.1069, grad_fn=<MeanBackward0>)\n",
      "in-tensor summary: mean is tensor(0.4676)\n",
      "out-tensor summary: mean is tensor(0.5077, grad_fn=<MeanBackward0>)\n",
      "Epoch is: 24\n",
      "loss: is tensor(383.2488, grad_fn=<MeanBackward0>)\n",
      "in-tensor summary: mean is tensor(0.4741)\n",
      "out-tensor summary: mean is tensor(0.5012, grad_fn=<MeanBackward0>)\n",
      "Epoch is: 25\n",
      "loss: is tensor(330.9310, grad_fn=<MeanBackward0>)\n",
      "in-tensor summary: mean is tensor(0.4638)\n",
      "out-tensor summary: mean is tensor(0.4973, grad_fn=<MeanBackward0>)\n",
      "summarizing epoch 25 where loss is tensor(330.9310, grad_fn=<MeanBackward0>)\n",
      "in-tensor summary: mean is tensor(0.4638)\n",
      "for the in tensor, sample of values is: tensor([[0.7922, 0.7961, 0.8118,  ..., 0.8431, 0.8118, 0.9059],\n",
      "        [0.2235, 0.2471, 0.3451,  ..., 0.3725, 0.3608, 0.3804],\n",
      "        [0.5843, 0.4353, 0.5647,  ..., 0.1529, 0.1098, 0.0471],\n",
      "        ...,\n",
      "        [0.9882, 0.9686, 0.9686,  ..., 0.9490, 0.9529, 0.9608],\n",
      "        [0.5059, 0.5020, 0.5059,  ..., 0.5059, 0.4863, 0.4667],\n",
      "        [1.0000, 0.9961, 0.9961,  ..., 0.9961, 0.9961, 0.9961]])\n",
      "out-tensor summary: mean is tensor(0.4973, grad_fn=<MeanBackward0>)\n",
      "for the out tensor, sample of values is: tensor([[0.5470, 0.5869, 0.5008,  ..., 0.4673, 0.4885, 0.4479],\n",
      "        [0.5306, 0.4907, 0.5393,  ..., 0.4645, 0.5500, 0.5076],\n",
      "        [0.5346, 0.4686, 0.4863,  ..., 0.4077, 0.5482, 0.4598],\n",
      "        ...,\n",
      "        [0.4920, 0.5121, 0.5532,  ..., 0.4974, 0.5097, 0.4931],\n",
      "        [0.5286, 0.5478, 0.4950,  ..., 0.5225, 0.4922, 0.4667],\n",
      "        [0.5187, 0.5392, 0.5185,  ..., 0.5108, 0.5051, 0.4884]],\n",
      "       grad_fn=<SelectBackward0>)\n"
     ]
    },
    {
     "ename": "NameError",
     "evalue": "name 'tensor_save' is not defined",
     "output_type": "error",
     "traceback": [
      "\u001B[0;31m---------------------------------------------------------------------------\u001B[0m",
      "\u001B[0;31mNameError\u001B[0m                                 Traceback (most recent call last)",
      "Cell \u001B[0;32mIn[8], line 32\u001B[0m\n\u001B[1;32m     30\u001B[0m                 tensor_save(out_image)\n\u001B[1;32m     31\u001B[0m                 end()\n\u001B[0;32m---> 32\u001B[0m \u001B[43mtensor_debugger\u001B[49m\u001B[43m(\u001B[49m\u001B[43m)\u001B[49m\n",
      "Cell \u001B[0;32mIn[8], line 30\u001B[0m, in \u001B[0;36mtensor_debugger\u001B[0;34m()\u001B[0m\n\u001B[1;32m     28\u001B[0m \u001B[38;5;28mprint\u001B[39m(\u001B[38;5;124m'\u001B[39m\u001B[38;5;124mout-tensor summary: mean is\u001B[39m\u001B[38;5;124m'\u001B[39m, torch\u001B[38;5;241m.\u001B[39mmean(out_image))\n\u001B[1;32m     29\u001B[0m \u001B[38;5;28mprint\u001B[39m(\u001B[38;5;124m'\u001B[39m\u001B[38;5;124mfor the out tensor, sample of values is:\u001B[39m\u001B[38;5;124m'\u001B[39m, out_image[:,\u001B[38;5;241m0\u001B[39m,\u001B[38;5;241m0\u001B[39m])\n\u001B[0;32m---> 30\u001B[0m \u001B[43mtensor_save\u001B[49m(out_image)\n\u001B[1;32m     31\u001B[0m end()\n",
      "\u001B[0;31mNameError\u001B[0m: name 'tensor_save' is not defined"
     ]
    }
   ],
   "source": [
    "# this is more or less the same thing as training loop, but with added functionality\n",
    "# instead of completing the training, it stops on a target epoch, then summarizes I/O data for debugging purposes\n",
    "epoch = 0\n",
    "def tensor_debugger():\n",
    "        for data in train_loader:\n",
    "            global epoch\n",
    "            global loss_log\n",
    "            epoch += 1\n",
    "            in_image, nothing = data\n",
    "            in_image = in_image.to(device)\n",
    "            out_image, mu, sigma = net(in_image)\n",
    "\n",
    "            KL = -0.5 * torch.sum(1 + sigma - mu.pow(2) - sigma.exp(),dim=1)\n",
    "            loss = torch.nn.functional.binary_cross_entropy(out_image, in_image) + KL\n",
    "            loss = torch.mean(loss)\n",
    "            print('Epoch is:', epoch)\n",
    "            print('loss: is', loss)\n",
    "            loss_log[epoch-1] = loss\n",
    "            print('in-tensor summary: mean is', torch.mean(in_image))\n",
    "            print('out-tensor summary: mean is', torch.mean(out_image))\n",
    "            optimizer.zero_grad()\n",
    "            loss.backward()\n",
    "            optimizer.step()\n",
    "            if epoch == max_epochs:\n",
    "                print('summarizing epoch', epoch, 'where loss is', loss)\n",
    "                print('in-tensor summary: mean is', torch.mean(in_image))\n",
    "                print('for the in tensor, sample of values is:', in_image[:,0,0])\n",
    "                print('out-tensor summary: mean is', torch.mean(out_image))\n",
    "                print('for the out tensor, sample of values is:', out_image[:,0,0])\n",
    "                tensor_save(out_image)\n",
    "                end()\n",
    "tensor_debugger()"
   ],
   "metadata": {
    "collapsed": false
   }
  },
  {
   "cell_type": "markdown",
   "source": [],
   "metadata": {
    "collapsed": false
   }
  },
  {
   "cell_type": "code",
   "execution_count": null,
   "outputs": [],
   "source": [
    "#this is my function for saving tensors that I am interested in. For example, suppose I want to check the very first tensors generated by the system, Xin and Xout in Epoch 1. in that case, set Max epochs equal to one and run the tensor debugger function. The tensors are to be accessed by a function in a separate script that takes those tensors and provides summary statistics. The reason I might need summary statistics on the tensors manipulated by my program is if I want to see what exactly is it that might be screwing up my loss function. In this separate program, I would compare and contrast those tensors, and see if there is anything glaringly wrong with them, for example, if any of them are entirely zero. I am writing this because I have nobody to talk to in the lab.\n",
    "def tensor_save(tensor):\n",
    "    number_list = ['one', 'two', 'three', 'end']\n",
    "    extension = number_list[epoch-1]\n",
    "    if extension == 'end':\n",
    "        print('end of list reached')\n",
    "        raise ValueError\n",
    "    file_name = 'out_image'+ extension + '.pt'\n",
    "    if file_name.isfile():\n",
    "        print('file already exists, no tensor will be saved')\n",
    "    else:\n",
    "        torch.save(tensor, file_name)\n",
    "    print('saving the file as:', file_name)\n",
    "\n"
   ],
   "metadata": {
    "collapsed": false
   }
  },
  {
   "cell_type": "code",
   "execution_count": null,
   "outputs": [],
   "source": [],
   "metadata": {
    "collapsed": false
   }
  }
 ],
 "metadata": {
  "kernelspec": {
   "display_name": "Python 3",
   "language": "python",
   "name": "python3"
  },
  "language_info": {
   "codemirror_mode": {
    "name": "ipython",
    "version": 2
   },
   "file_extension": ".py",
   "mimetype": "text/x-python",
   "name": "python",
   "nbconvert_exporter": "python",
   "pygments_lexer": "ipython2",
   "version": "2.7.6"
  }
 },
 "nbformat": 4,
 "nbformat_minor": 0
}
