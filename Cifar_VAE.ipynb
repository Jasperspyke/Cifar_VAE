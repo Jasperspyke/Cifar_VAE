{
 "cells": [
  {
   "cell_type": "code",
   "execution_count": null,
   "metadata": {
    "collapsed": true,
    "pycharm": {
     "name": "#%%\n"
    }
   },
   "outputs": [],
   "source": [
    "import torch\n",
    "import numpy as np\n",
    "import matplotlib.pyplot as plt\n",
    "from torchvision import transforms as transforms\n",
    "from torchvision.datasets import CIFAR10\n",
    "import sys"
   ]
  },
  {
   "cell_type": "code",
   "execution_count": null,
   "outputs": [],
   "source": [
    "batch_size=  64\n",
    "lr = 1e-3\n",
    "max_epochs = 11\n",
    "latent_dim = 128\n",
    "device = 'cpu'"
   ],
   "metadata": {
    "collapsed": false,
    "pycharm": {
     "name": "#%%\n"
    }
   }
  },
  {
   "cell_type": "code",
   "execution_count": null,
   "outputs": [],
   "source": [
    "transform = transforms.ToTensor()\n",
    "dataset_path = '/Users/JasperHilliard/Documents/Git testing Project/ganang'\n",
    "train_data = CIFAR10(root=dataset_path, transform=transform, train=True, download=True)\n",
    "validation_data = CIFAR10(root=dataset_path, train=False, transform=transform, download=True)\n",
    "train_loader = torch.utils.data.DataLoader(train_data, batch_size=batch_size)\n",
    "validation_loader = torch.utils.data.DataLoader(validation_data, batch_size=batch_size)\n",
    "train_dict = enumerate(train_loader, 0)"
   ],
   "metadata": {
    "collapsed": false,
    "pycharm": {
     "name": "#%%\n"
    }
   }
  },
  {
   "cell_type": "code",
   "execution_count": null,
   "outputs": [],
   "source": [
    "class Vae(torch.nn.Module):\n",
    "        def __init__(self, img_dim=(65536), channels=3, latent_dim=latent_dim):\n",
    "            super(\n",
    ").__init__()\n",
    "\n",
    "            #Encoder\n",
    "            self.encoder_conv_1 = torch.nn.Conv2d(3,32,3,stride=1,padding=1)\n",
    "            self.encoder_conv_2 = torch.nn.Conv2d(32,64,3,stride=1,padding=1)\n",
    "            self.encoder_FC_1 = torch.nn.Linear(img_dim, latent_dim)\n",
    "            self.encoder_FC_2 = torch.nn.Linear(img_dim, latent_dim)\n",
    "            #Decoder\n",
    "            self.decoder_FC_1 = torch.nn.Linear(128,65536)\n",
    "            self.decoder_conv_1 = torch.nn.ConvTranspose2d(64,32,3,stride=1,padding=1)\n",
    "            self.decoder_conv_2 = torch.nn.ConvTranspose2d(32,3,3,stride=1,padding=1)\n",
    "\n",
    "        def encoder(self, x, img_dim=(32,32), channels=3, latent_dim=latent_dim):\n",
    "            h = self.encoder_conv_1(x)\n",
    "            h = self.encoder_conv_2(h)\n",
    "            h = h.view(h.size(0), -1)\n",
    "            mu = torch.Tensor(h)\n",
    "            sigma = torch.Tensor(h)\n",
    "            mu = self.encoder_FC_1(mu)\n",
    "            sigma = self.encoder_FC_2(sigma)\n",
    "\n",
    "            return mu, sigma\n",
    "\n",
    "        def decoder(self, k, img_dim=(32,32), channels=3, latent_dim=latent_dim):\n",
    "            k = relu(k)\n",
    "            k = torch.Tensor(self.decoder_FC_1(k))\n",
    "            k = k.view(64, 64, 32, 32)\n",
    "            k = relu(self.decoder_conv_1(k))\n",
    "            k = torch.sigmoid(self.decoder_conv_2(k))\n",
    "            return k\n",
    "\n",
    "\n",
    "        def reparameterization(self, mu, sigma):\n",
    "            eps = torch.randn_like(sigma)\n",
    "            sigma = torch.exp(sigma/2)\n",
    "            reparameterized = mu + sigma * eps\n",
    "            return reparameterized\n",
    "\n",
    "\n",
    "        def forward(self, x):\n",
    "            mu, sigma = self.encoder(x)\n",
    "            reparameterized = self.reparameterization(mu, sigma)\n",
    "            z = self.decoder(reparameterized)\n",
    "            return z, mu, sigma\n",
    "\n",
    "relu = torch.nn.ReLU()\n",
    "net = Vae().to(device)\n",
    "optimizer = torch.optim.Adam(net.parameters(), lr=lr)"
   ],
   "metadata": {
    "collapsed": false,
    "pycharm": {
     "name": "#%%\n"
    }
   }
  },
  {
   "cell_type": "code",
   "execution_count": null,
   "outputs": [],
   "source": [
    "def training_loop():\n",
    "    for epoch in range(max_epochs):\n",
    "        for i in range(max_epochs):\n",
    "            data = next(iter(train_loader))\n",
    "            in_image, nothing = data\n",
    "            in_image = in_image.to(device)\n",
    "            out_image, mu, sigma = net(in_image)\n",
    "            KL = -0.5 * torch.sum(1 + sigma - mu.pow(2) - sigma.exp(),dim=1)\n",
    "            loss = torch.nn.functional.binary_cross_entropy(out_image, in_image, size_average=0) + KL\n",
    "            loss = torch.mean(loss)\n",
    "            print('Epoch is:', epoch)\n",
    "            print('loss: is', loss)\n",
    "            optimizer.zero_grad()\n",
    "            loss.backward()\n",
    "            optimizer.step()\n"
   ],
   "metadata": {
    "collapsed": false,
    "pycharm": {
     "name": "#%%\n"
    }
   }
  },
  {
   "cell_type": "code",
   "execution_count": null,
   "outputs": [],
   "source": [
    "training_loop()"
   ],
   "metadata": {
    "collapsed": false,
    "pycharm": {
     "name": "#%%\n"
    }
   }
  },
  {
   "cell_type": "markdown",
   "source": [],
   "metadata": {
    "collapsed": false,
    "pycharm": {
     "name": "#%% md\n"
    }
   }
  }
 ],
 "metadata": {
  "kernelspec": {
   "display_name": "Python 3",
   "language": "python",
   "name": "python3"
  },
  "language_info": {
   "codemirror_mode": {
    "name": "ipython",
    "version": 2
   },
   "file_extension": ".py",
   "mimetype": "text/x-python",
   "name": "python",
   "nbconvert_exporter": "python",
   "pygments_lexer": "ipython2",
   "version": "2.7.6"
  }
 },
 "nbformat": 4,
 "nbformat_minor": 0
}